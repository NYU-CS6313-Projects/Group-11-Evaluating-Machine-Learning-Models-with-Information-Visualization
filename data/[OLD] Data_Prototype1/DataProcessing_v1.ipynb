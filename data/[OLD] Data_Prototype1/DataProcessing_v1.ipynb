{
 "metadata": {
  "name": "",
  "signature": "sha256:3bbe33acc845af6f0c21bd3fc93cca25cf032427dba7a90b1f4a202a9495aa53"
 },
 "nbformat": 3,
 "nbformat_minor": 0,
 "worksheets": [
  {
   "cells": [
    {
     "cell_type": "code",
     "collapsed": false,
     "input": [
      "import pandas as pd\n",
      "import csv\n",
      "import numpy as np"
     ],
     "language": "python",
     "metadata": {},
     "outputs": [],
     "prompt_number": 7
    },
    {
     "cell_type": "code",
     "collapsed": false,
     "input": [
      "#Import output.csv which contains all data extracted using patient-viz feature_extraction code.\n",
      "data = pd.read_csv('/Users/pja/Google Drive/NYU/Spring15/InfoViz/Local Project Folder/DataDownload/patient-viz/feature_extraction/All_n116353.csv')\n",
      "data.shape"
     ],
     "language": "python",
     "metadata": {},
     "outputs": [],
     "prompt_number": 50
    },
    {
     "cell_type": "code",
     "collapsed": false,
     "input": [
      "#Select first 1000 observations\n",
      "data_reduced = data[:1000]\n",
      "data_reduced.shape\n",
      "\n",
      "#Output to csv \n",
      "data_reduced.to_csv('Sample01_n1000.csv')"
     ],
     "language": "python",
     "metadata": {},
     "outputs": [],
     "prompt_number": 6
    },
    {
     "cell_type": "code",
     "collapsed": false,
     "input": [
      "#Produce random feature weights for testing & output to file\n",
      "feats = pd.DataFrame(data.columns.values,columns=['Features'])\n",
      "feats['Weight']=np.random.rand(len(feats))\n",
      "feats.to_csv('DummyFeatureWeights.csv',index=False)"
     ],
     "language": "python",
     "metadata": {},
     "outputs": [],
     "prompt_number": 42
    }
   ],
   "metadata": {}
  }
 ]
}