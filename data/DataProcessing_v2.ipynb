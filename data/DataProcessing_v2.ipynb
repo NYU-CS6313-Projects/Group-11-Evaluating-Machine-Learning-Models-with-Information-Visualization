{
 "metadata": {
  "name": "",
  "signature": "sha256:a92e2427d1e10e99d06f8c9e4868574b4b4e7856b4f6bac720721e0538b72d97"
 },
 "nbformat": 3,
 "nbformat_minor": 0,
 "worksheets": [
  {
   "cells": [
    {
     "cell_type": "code",
     "collapsed": false,
     "input": [
      "import pandas as pd\n",
      "import csv\n",
      "import numpy as np\n",
      "import math"
     ],
     "language": "python",
     "metadata": {},
     "outputs": [],
     "prompt_number": 1
    },
    {
     "cell_type": "code",
     "collapsed": false,
     "input": [
      "#Import output.csv which contains all data extracted using patient-viz feature_extraction code.\n",
      "data = pd.read_csv('/Users/pallen/Google Drive/NYU/Spring15/InfoViz/Local Project Folder/sp2015-group11/data/All_n116353.csv')\n",
      "data.shape"
     ],
     "language": "python",
     "metadata": {},
     "outputs": [],
     "prompt_number": 3
    },
    {
     "cell_type": "code",
     "collapsed": false,
     "input": [
      "#Select first 1000 observations\n",
      "data_reduced = data[:1000]\n",
      "data_reduced.shape\n",
      "\n",
      "#Output to csv \n",
      "data_reduced.to_csv('Sample01_n1000.csv')"
     ],
     "language": "python",
     "metadata": {},
     "outputs": [],
     "prompt_number": 6
    },
    {
     "cell_type": "code",
     "collapsed": false,
     "input": [
      "#Produce random feature weights for testing & output to file\n",
      "feats = pd.DataFrame(data.columns.values,columns=['Features'])\n",
      "feats['Weight']=np.random.rand(len(feats))\n",
      "feats.to_csv('DummyFeatureWeights.csv',index=False)"
     ],
     "language": "python",
     "metadata": {},
     "outputs": [],
     "prompt_number": 42
    },
    {
     "cell_type": "code",
     "collapsed": false,
     "input": [
      "#Checkpoint\n",
      "#Re-read sample file & feats:\n",
      "data = pd.read_csv('/Users/pallen/Google Drive/NYU/Spring15/InfoViz/Local Project Folder/sp2015-group11/data/Sample01_n1000.csv')\n",
      "feats =pd.read_csv('/Users/pallen/Google Drive/NYU/Spring15/InfoViz/Local Project Folder/sp2015-group11/data/DummyFeatureWeights.csv')"
     ],
     "language": "python",
     "metadata": {},
     "outputs": [],
     "prompt_number": 127
    },
    {
     "cell_type": "code",
     "collapsed": false,
     "input": [
      "#Drop patient index for feature weighting\n",
      "data_index = data['id']\n",
      "data = data.drop('id',axis=1)\n",
      "weights = feats['Weight'].values[1:]"
     ],
     "language": "python",
     "metadata": {},
     "outputs": [],
     "prompt_number": 128
    },
    {
     "cell_type": "code",
     "collapsed": false,
     "input": [
      "#Calculate value of sigmoid function:\n",
      "data['Sum_Weights'] = data.dot(weights)\n",
      "data['y']=1/(1+math.e**(data.Sum_Weights))"
     ],
     "language": "python",
     "metadata": {},
     "outputs": [],
     "prompt_number": 129
    },
    {
     "cell_type": "code",
     "collapsed": false,
     "input": [
      "#Set prediction threshold = mean, for example\n",
      "data['Prediction'] = np.where(data['y']>np.mean(data['y']),1,0)"
     ],
     "language": "python",
     "metadata": {},
     "outputs": [],
     "prompt_number": 130
    },
    {
     "cell_type": "code",
     "collapsed": false,
     "input": [
      "#Create error flags:\n",
      "data['TruePositive'] = np.where(((data.diagnosis__25000==1) & (data.Prediction==1)),1,0)\n",
      "data['FalsePositive'] = np.where(((data.diagnosis__25000==0) & (data.Prediction==1)),1,0)\n",
      "data['TrueNegative'] = np.where(((data.diagnosis__25000==0) & (data.Prediction==0)),1,0)\n",
      "data['FalseNegative'] = np.where(((data.diagnosis__25000==1) & (data.Prediction==0)),1,0)"
     ],
     "language": "python",
     "metadata": {},
     "outputs": [],
     "prompt_number": 131
    },
    {
     "cell_type": "code",
     "collapsed": false,
     "input": [
      "#Determine top 5 features for prototype:\n",
      "top5feats = feats.sort(['Weight'],ascending=[1])['Features'][:5].tolist()\n",
      "errorsbyfeats = pd.DataFrame(np.empty([5,9]),columns=['Feature','0_TP','1_TP','0_FP','1_FP','0_TN','1_TN','0_FN','1_FN'])\n",
      "for index,row in errorsbyfeats.iterrows():\n",
      "    errorsbyfeats['Feature'][index] = top5feats[index]\n",
      "    errorsbyfeats['0_TP'][index] = data['TruePositive'][np.where(data[top5feats[index]]==0)[0].tolist()].sum()\n",
      "    errorsbyfeats['1_TP'][index] = data['TruePositive'][np.where(data[top5feats[index]]==1)[0].tolist()].sum()\n",
      "    errorsbyfeats['0_FP'][index] = data['FalsePositive'][np.where(data[top5feats[index]]==0)[0].tolist()].sum()\n",
      "    errorsbyfeats['1_FP'][index] = data['FalsePositive'][np.where(data[top5feats[index]]==1)[0].tolist()].sum()\n",
      "    errorsbyfeats['0_TN'][index] = data['TrueNegative'][np.where(data[top5feats[index]]==0)[0].tolist()].sum()\n",
      "    errorsbyfeats['1_TN'][index] = data['TrueNegative'][np.where(data[top5feats[index]]==1)[0].tolist()].sum()\n",
      "    errorsbyfeats['0_FN'][index] = data['FalseNegative'][np.where(data[top5feats[index]]==0)[0].tolist()].sum()\n",
      "    errorsbyfeats['1_FN'][index] = data['FalseNegative'][np.where(data[top5feats[index]]==1)[0].tolist()].sum()"
     ],
     "language": "python",
     "metadata": {},
     "outputs": [],
     "prompt_number": 158
    },
    {
     "cell_type": "code",
     "collapsed": false,
     "input": [
      "errorsbyfeats"
     ],
     "language": "python",
     "metadata": {},
     "outputs": [
      {
       "html": [
        "<div style=\"max-height:1000px;max-width:1500px;overflow:auto;\">\n",
        "<table border=\"1\" class=\"dataframe\">\n",
        "  <thead>\n",
        "    <tr style=\"text-align: right;\">\n",
        "      <th></th>\n",
        "      <th>Feature</th>\n",
        "      <th>0_TP</th>\n",
        "      <th>1_TP</th>\n",
        "      <th>0_FP</th>\n",
        "      <th>1_FP</th>\n",
        "      <th>0_TN</th>\n",
        "      <th>1_TN</th>\n",
        "      <th>0_FN</th>\n",
        "      <th>1_FN</th>\n",
        "    </tr>\n",
        "  </thead>\n",
        "  <tbody>\n",
        "    <tr>\n",
        "      <th>0</th>\n",
        "      <td>            diagnosis__29663</td>\n",
        "      <td> 1</td>\n",
        "      <td> 0</td>\n",
        "      <td> 214</td>\n",
        "      <td> 0</td>\n",
        "      <td> 265</td>\n",
        "      <td>   2</td>\n",
        "      <td> 514</td>\n",
        "      <td>   4</td>\n",
        "    </tr>\n",
        "    <tr>\n",
        "      <th>1</th>\n",
        "      <td>             diagnosis__8209</td>\n",
        "      <td> 1</td>\n",
        "      <td> 0</td>\n",
        "      <td> 214</td>\n",
        "      <td> 0</td>\n",
        "      <td> 264</td>\n",
        "      <td>   3</td>\n",
        "      <td> 513</td>\n",
        "      <td>   5</td>\n",
        "    </tr>\n",
        "    <tr>\n",
        "      <th>2</th>\n",
        "      <td>            diagnosis__72763</td>\n",
        "      <td> 1</td>\n",
        "      <td> 0</td>\n",
        "      <td> 214</td>\n",
        "      <td> 0</td>\n",
        "      <td> 266</td>\n",
        "      <td>   1</td>\n",
        "      <td> 515</td>\n",
        "      <td>   3</td>\n",
        "    </tr>\n",
        "    <tr>\n",
        "      <th>3</th>\n",
        "      <td> diagnosis__HIERARCHY_13.3.2</td>\n",
        "      <td> 1</td>\n",
        "      <td> 0</td>\n",
        "      <td> 213</td>\n",
        "      <td> 1</td>\n",
        "      <td> 165</td>\n",
        "      <td> 102</td>\n",
        "      <td> 183</td>\n",
        "      <td> 335</td>\n",
        "    </tr>\n",
        "    <tr>\n",
        "      <th>4</th>\n",
        "      <td>            diagnosis__20913</td>\n",
        "      <td> 1</td>\n",
        "      <td> 0</td>\n",
        "      <td> 214</td>\n",
        "      <td> 0</td>\n",
        "      <td> 266</td>\n",
        "      <td>   1</td>\n",
        "      <td> 515</td>\n",
        "      <td>   3</td>\n",
        "    </tr>\n",
        "  </tbody>\n",
        "</table>\n",
        "</div>"
       ],
       "metadata": {},
       "output_type": "pyout",
       "prompt_number": 159,
       "text": [
        "                       Feature  0_TP  1_TP  0_FP  1_FP  0_TN  1_TN  0_FN  1_FN\n",
        "0             diagnosis__29663     1     0   214     0   265     2   514     4\n",
        "1              diagnosis__8209     1     0   214     0   264     3   513     5\n",
        "2             diagnosis__72763     1     0   214     0   266     1   515     3\n",
        "3  diagnosis__HIERARCHY_13.3.2     1     0   213     1   165   102   183   335\n",
        "4             diagnosis__20913     1     0   214     0   266     1   515     3"
       ]
      }
     ],
     "prompt_number": 159
    },
    {
     "cell_type": "code",
     "collapsed": false,
     "input": [
      "errorsbyfeats.to_csv('DummyErrorMatrix.csv',index=False)"
     ],
     "language": "python",
     "metadata": {},
     "outputs": [],
     "prompt_number": 161
    },
    {
     "cell_type": "code",
     "collapsed": false,
     "input": [],
     "language": "python",
     "metadata": {},
     "outputs": []
    }
   ],
   "metadata": {}
  }
 ]
}