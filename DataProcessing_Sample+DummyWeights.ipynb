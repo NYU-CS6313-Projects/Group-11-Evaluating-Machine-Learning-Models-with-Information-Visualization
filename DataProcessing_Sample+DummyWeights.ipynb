{
 "metadata": {
  "name": "",
  "signature": "sha256:587ae632fce051f6d670fd7af93b4a8de64fecbcddbceec512a007767be12cac"
 },
 "nbformat": 3,
 "nbformat_minor": 0,
 "worksheets": [
  {
   "cells": [
    {
     "cell_type": "code",
     "collapsed": false,
     "input": [
      "import pandas as pd\n",
      "import csv\n",
      "import random\n",
      "from collections import OrderedDict"
     ],
     "language": "python",
     "metadata": {},
     "outputs": [],
     "prompt_number": 22
    },
    {
     "cell_type": "code",
     "collapsed": false,
     "input": [
      "#Original Data:\n",
      "#data = pd.read_csv('/Users/pja/InfoVis_ProjectData/patient-viz/feature_extraction/output.csv')\n",
      "#print data.shape\n",
      "\n",
      "#Reduction:\n",
      "# data_reduced = data[:1000]\n",
      "#print data_reduced.shape\n",
      "\n",
      "#Save:\n",
      "#data_reduced.to_csv('Sample01_n1000.csv')"
     ],
     "language": "python",
     "metadata": {},
     "outputs": [],
     "prompt_number": 2
    },
    {
     "cell_type": "code",
     "collapsed": false,
     "input": [
      "#Load Sample1000 Data:\n",
      "data = pd.read_csv('Sample01_n1000.csv')\n",
      "data.shape"
     ],
     "language": "python",
     "metadata": {},
     "outputs": [
      {
       "metadata": {},
       "output_type": "pyout",
       "prompt_number": 3,
       "text": [
        "(1000, 3544)"
       ]
      }
     ],
     "prompt_number": 3
    },
    {
     "cell_type": "code",
     "collapsed": false,
     "input": [
      "random.seed(1234)\n",
      "weights = {}\n",
      "for i in data.columns.values:\n",
      "    weights[i] = random.uniform(0,1)\n",
      "    "
     ],
     "language": "python",
     "metadata": {},
     "outputs": [],
     "prompt_number": 10
    },
    {
     "cell_type": "code",
     "collapsed": false,
     "input": [
      "sorted_weights = sorted(weights.items(), key=operator.itemgetter(1))\n",
      "top10feats = sorted_weights[3534:]"
     ],
     "language": "python",
     "metadata": {},
     "outputs": [],
     "prompt_number": 36
    },
    {
     "cell_type": "code",
     "collapsed": false,
     "input": [
      "top10feats"
     ],
     "language": "python",
     "metadata": {},
     "outputs": [
      {
       "metadata": {},
       "output_type": "pyout",
       "prompt_number": 37,
       "text": [
        "[('diagnosis__38619', 0.9964954650507832),\n",
        " ('diagnosis__HIERARCHY_16.3', 0.9969442197094073),\n",
        " ('procedure__HIERARCHY_5.5.2', 0.9971799354131957),\n",
        " ('diagnosis__68601', 0.9972658721822013),\n",
        " ('diagnosis__HIERARCHY_17.2.1', 0.9977717128079227),\n",
        " ('diagnosis__HIERARCHY_9.5.3.3', 0.9979681576829295),\n",
        " ('diagnosis__8052', 0.9981941484889906),\n",
        " ('diagnosis__585', 0.9989164402532598),\n",
        " ('diagnosis__29680', 0.9993946856836765),\n",
        " ('diagnosis__56400', 0.9999733260006006)]"
       ]
      }
     ],
     "prompt_number": 37
    },
    {
     "cell_type": "code",
     "collapsed": false,
     "input": [],
     "language": "python",
     "metadata": {},
     "outputs": []
    }
   ],
   "metadata": {}
  }
 ]
}